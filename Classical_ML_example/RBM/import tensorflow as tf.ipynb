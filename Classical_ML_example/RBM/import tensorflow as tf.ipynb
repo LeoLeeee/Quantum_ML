{
 "cells": [
  {
   "cell_type": "code",
   "execution_count": 1,
   "metadata": {},
   "outputs": [],
   "source": [
    "import tensorflow as tf\n",
    "import numpy as np"
   ]
  },
  {
   "cell_type": "code",
   "execution_count": 2,
   "metadata": {},
   "outputs": [],
   "source": [
    "fashion_mnist = tf.keras.datasets.fashion_mnist\n",
    "(train_images, train_labels), (test_images, test_labels) = fashion_mnist.load_data()\n",
    "train_images = tf.reshape(train_images, (train_images.shape[0],train_images.shape[1]*train_images.shape[2]))\n",
    "test_images = tf.reshape(test_images, (test_images.shape[0],test_images.shape[1]*test_images.shape[2]))"
   ]
  },
  {
   "cell_type": "code",
   "execution_count": 109,
   "metadata": {},
   "outputs": [
    {
     "output_type": "execute_result",
     "data": {
      "text/plain": "<tf.Tensor: shape=(784,), dtype=float32, numpy=\narray([0., 0., 0., 0., 0., 0., 0., 0., 0., 0., 0., 0., 0., 0., 0., 0., 0.,\n       0., 0., 0., 0., 0., 0., 0., 0., 0., 0., 0., 0., 0., 0., 0., 0., 0.,\n       0., 0., 0., 0., 0., 0., 0., 0., 0., 0., 0., 0., 0., 0., 0., 0., 0.,\n       0., 0., 0., 0., 0., 0., 0., 0., 0., 0., 0., 0., 0., 0., 0., 0., 0.,\n       0., 0., 0., 0., 0., 0., 0., 0., 0., 0., 0., 0., 0., 0., 0., 0., 0.,\n       0., 0., 0., 0., 0., 0., 0., 0., 0., 0., 0., 0., 0., 0., 0., 0., 0.,\n       0., 0., 0., 0., 0., 0., 0., 0., 0., 0., 0., 0., 0., 0., 0., 0., 0.,\n       0., 0., 0., 0., 0., 0., 0., 0., 1., 0., 0., 0., 0., 0., 0., 0., 0.,\n       0., 0., 0., 0., 0., 0., 0., 0., 0., 0., 0., 0., 0., 0., 0., 0., 0.,\n       0., 0., 1., 1., 1., 1., 0., 0., 0., 0., 0., 0., 0., 0., 0., 0., 0.,\n       0., 0., 0., 0., 0., 0., 0., 0., 0., 0., 0., 0., 1., 1., 1., 1., 0.,\n       1., 1., 0., 0., 0., 0., 1., 0., 0., 0., 0., 0., 0., 0., 0., 0., 0.,\n       0., 0., 0., 0., 0., 0., 1., 1., 1., 1., 1., 1., 0., 0., 0., 1., 1.,\n       0., 1., 0., 0., 0., 0., 0., 0., 0., 0., 0., 0., 0., 0., 0., 0., 1.,\n       1., 1., 1., 1., 1., 1., 1., 1., 1., 0., 0., 1., 1., 0., 0., 0., 0.,\n       0., 0., 0., 0., 0., 0., 0., 0., 0., 0., 1., 1., 1., 1., 1., 1., 1.,\n       1., 1., 1., 1., 1., 1., 1., 0., 0., 0., 0., 0., 0., 0., 0., 0., 0.,\n       0., 0., 0., 0., 1., 1., 1., 1., 1., 1., 1., 1., 1., 1., 1., 1., 1.,\n       1., 0., 0., 0., 0., 0., 0., 0., 0., 0., 0., 0., 0., 0., 0., 1., 1.,\n       1., 1., 1., 1., 1., 1., 1., 1., 1., 1., 1., 1., 0., 0., 0., 0., 0.,\n       0., 0., 0., 0., 0., 0., 0., 0., 0., 1., 1., 1., 1., 1., 1., 1., 1.,\n       1., 1., 1., 1., 0., 1., 0., 0., 0., 0., 0., 0., 0., 0., 0., 0., 0.,\n       0., 0., 0., 1., 1., 1., 1., 1., 1., 1., 1., 1., 1., 1., 1., 1., 0.,\n       0., 0., 0., 0., 0., 0., 0., 0., 0., 0., 0., 0., 0., 1., 1., 1., 1.,\n       1., 1., 1., 1., 1., 1., 1., 1., 1., 1., 0., 0., 0., 0., 0., 0., 0.,\n       0., 0., 0., 0., 0., 1., 1., 1., 1., 1., 1., 1., 1., 1., 1., 1., 1.,\n       1., 1., 1., 1., 1., 0., 0., 0., 0., 0., 0., 0., 0., 0., 1., 1., 1.,\n       1., 1., 1., 1., 1., 1., 1., 1., 1., 1., 1., 1., 1., 1., 1., 1., 0.,\n       0., 0., 1., 1., 1., 1., 1., 1., 1., 1., 1., 1., 1., 1., 1., 1., 1.,\n       1., 1., 1., 1., 1., 1., 1., 1., 1., 1., 0., 0., 1., 1., 1., 1., 1.,\n       1., 1., 1., 1., 1., 1., 1., 0., 1., 1., 1., 1., 1., 1., 1., 1., 1.,\n       1., 1., 1., 1., 0., 0., 1., 1., 1., 1., 1., 1., 1., 1., 1., 1., 1.,\n       1., 1., 0., 0., 0., 0., 1., 1., 1., 1., 1., 1., 1., 1., 1., 0., 0.,\n       1., 1., 1., 1., 1., 1., 1., 1., 1., 1., 1., 1., 1., 1., 1., 1., 1.,\n       1., 1., 1., 1., 1., 1., 1., 1., 1., 0., 0., 1., 1., 1., 1., 1., 1.,\n       1., 1., 1., 1., 1., 1., 1., 1., 1., 1., 1., 1., 1., 1., 1., 1., 1.,\n       1., 1., 1., 0., 0., 0., 1., 1., 1., 1., 1., 1., 1., 1., 1., 1., 1.,\n       1., 1., 1., 1., 1., 1., 1., 1., 1., 1., 1., 1., 1., 1., 0., 0., 0.,\n       0., 1., 1., 1., 1., 1., 1., 1., 1., 1., 1., 1., 1., 1., 1., 1., 1.,\n       1., 1., 1., 1., 1., 1., 1., 1., 0., 0., 0., 0., 0., 0., 1., 1., 1.,\n       1., 1., 1., 1., 1., 1., 1., 1., 1., 1., 1., 1., 1., 1., 1., 1., 0.,\n       0., 0., 0., 0., 0., 0., 0., 0., 0., 0., 0., 0., 0., 0., 0., 0., 0.,\n       0., 0., 0., 0., 0., 0., 0., 0., 0., 0., 0., 0., 0., 0., 0., 0., 0.,\n       0., 0., 0., 0., 0., 0., 0., 0., 0., 0., 0., 0., 0., 0., 0., 0., 0.,\n       0., 0., 0., 0., 0., 0., 0., 0., 0., 0., 0., 0., 0., 0., 0., 0., 0.,\n       0., 0., 0., 0., 0., 0., 0., 0., 0., 0., 0., 0., 0., 0., 0., 0., 0.,\n       0., 0.], dtype=float32)>"
     },
     "metadata": {},
     "execution_count": 109
    }
   ],
   "source": [
    "condition = tf.less(train_images/255, 0.5)\n",
    "train_images_b = tf.where(condition, 0.0, 1.0)\n",
    "condition = tf.less(test_images/255, 0.5)\n",
    "test_images_b = tf.where(condition, 0.0, 1.0)\n",
    "train_images_b[0]"
   ]
  },
  {
   "cell_type": "code",
   "execution_count": 117,
   "metadata": {},
   "outputs": [
    {
     "output_type": "execute_result",
     "data": {
      "text/plain": "array([[0., 0., 0., ..., 0., 0., 0.],\n       [0., 0., 0., ..., 0., 0., 0.]], dtype=float32)"
     },
     "metadata": {},
     "execution_count": 117
    }
   ],
   "source": [
    "index = np.random.randint(0, np.shape(train_images_b)[0], 2)\n",
    "train_images_np = train_images_b.numpy()\n",
    "train_images_np[index]"
   ]
  },
  {
   "cell_type": "code",
   "execution_count": 114,
   "metadata": {},
   "outputs": [
    {
     "output_type": "execute_result",
     "data": {
      "text/plain": "(array([0.67278709, 0.2893842 ]),\n array([0.1717065 , 0.67278709, 0.22078284, 0.2893842 , 0.63099499,\n        0.66279008, 0.38804535, 0.24936905, 0.20700851, 0.53280702]))"
     },
     "metadata": {},
     "execution_count": 114
    }
   ],
   "source": [
    "h[[1,3]],h"
   ]
  },
  {
   "cell_type": "code",
   "execution_count": 41,
   "metadata": {},
   "outputs": [],
   "source": [
    "nv = 784  # number of the visible unit\n",
    "nh = 10  # number of the hidden unit\n",
    "lr = 0.001  # learning rate\n",
    "Maxiter = 1e4  # max loop time\n",
    "batch_size = 128 "
   ]
  },
  {
   "cell_type": "code",
   "execution_count": 59,
   "metadata": {},
   "outputs": [],
   "source": [
    "w = tf.Variable(tf.random.normal((nh, nv), stddev=0.01))\n",
    "b = tf.Variable(tf.random.normal((nv,), stddev=0.01))\n",
    "c = tf.Variable(tf.random.normal((nh,), stddev=0.01))"
   ]
  },
  {
   "cell_type": "code",
   "execution_count": 42,
   "metadata": {},
   "outputs": [],
   "source": [
    "index = np.random.randint(0, np.shape(train_images_b)[0], batch_size)"
   ]
  },
  {
   "cell_type": "code",
   "execution_count": 43,
   "metadata": {},
   "outputs": [
    {
     "output_type": "execute_result",
     "data": {
      "text/plain": "array([ 7419, 48769, 31692, 34962, 38462, 34943,  5240,  6074, 37939,\n       44755, 55644, 29162, 24028, 35527,  7398,  3730, 24233, 48044,\n       39228,  2803, 27141, 41088, 15124, 48382,  6309, 34200, 49092,\n        2710, 34430, 27027, 52177, 31935, 19987,  2955, 28541, 49944,\n        6715, 23319, 49686, 41131, 38422, 20218, 27087, 38272, 20663,\n        5120, 58250,  7670, 15764, 52426,  3310, 55231, 52293, 43522,\n       11667, 44333, 41242, 25691,  2494, 15502, 24644, 28398, 10989,\n       52479, 10583, 32037,  6073,  5109, 47590, 56739, 34278, 42934,\n       13808, 32138, 49751,   993, 54620, 40976, 52619, 30996, 19929,\n       48943, 33458,  2073, 49018, 23749, 22596, 27809, 47512, 39580,\n       40110, 37196, 38573, 53594, 43387,  5411, 56689, 32396, 10540,\n       50712, 12926, 17883, 13286, 34531, 41643, 59713, 26711, 42168,\n       28155, 50453, 38905, 20100, 15051,  8525, 19277,  5246, 24678,\n       25576, 32960,  7714,  1072, 58259, 41157, 20551, 30625,  5154,\n       19958, 55388])"
     },
     "metadata": {},
     "execution_count": 43
    }
   ],
   "source": [
    "index"
   ]
  },
  {
   "cell_type": "code",
   "execution_count": 45,
   "metadata": {},
   "outputs": [
    {
     "output_type": "execute_result",
     "data": {
      "text/plain": "array([0., 0., 0., 0., 0., 0., 0., 0., 0., 0.])"
     },
     "metadata": {},
     "execution_count": 45
    }
   ],
   "source": [
    " h = np.zeros(nh)\n",
    " h"
   ]
  },
  {
   "cell_type": "code",
   "execution_count": 78,
   "metadata": {},
   "outputs": [
    {
     "output_type": "execute_result",
     "data": {
      "text/plain": "<tf.Tensor: shape=(10,), dtype=float32, numpy=\narray([-0.05975975, -0.3156459 , -0.07718697,  0.29551706,  0.21746188,\n        0.12829226,  0.25086302, -0.02190565, -0.12314035, -0.19781922],\n      dtype=float32)>"
     },
     "metadata": {},
     "execution_count": 78
    }
   ],
   "source": [
    "w.shape, train_images_b[0].shape\n",
    "tf.reshape(tf.matmul(w,tf.reshape(train_images_b[0],(-1,1))),(-1,))+c"
   ]
  },
  {
   "cell_type": "code",
   "execution_count": 57,
   "metadata": {},
   "outputs": [
    {
     "output_type": "execute_result",
     "data": {
      "text/plain": "<tf.Tensor: shape=(2,), dtype=float32, numpy=array([0.7310586, 0.880797 ], dtype=float32)>"
     },
     "metadata": {},
     "execution_count": 57
    }
   ],
   "source": [
    "tf.sigmoid([1.0,2.0])"
   ]
  },
  {
   "cell_type": "code",
   "execution_count": 118,
   "metadata": {},
   "outputs": [
    {
     "output_type": "execute_result",
     "data": {
      "text/plain": "array([0., 0., 0., 1., 0., 1., 1., 0., 0., 1.])"
     },
     "metadata": {},
     "execution_count": 118
    }
   ],
   "source": [
    "\n",
    "tmp = np.random.random_sample(10)\n",
    "h = phv>=tmp\n",
    "h=h*1.0\n",
    "h"
   ]
  },
  {
   "cell_type": "code",
   "execution_count": 80,
   "metadata": {},
   "outputs": [
    {
     "output_type": "execute_result",
     "data": {
      "text/plain": "array([0., 0., 1., 1., 0., 1., 0., 1., 0., 0.])"
     },
     "metadata": {},
     "execution_count": 80
    }
   ],
   "source": [
    "phv=np.random.random_sample(10)\n",
    "size = phv.shape[0]\n",
    "tmp = np.random.random_sample(size)\n",
    "h = phv>tmp\n",
    "h.astype(np.float)"
   ]
  },
  {
   "cell_type": "code",
   "execution_count": 92,
   "metadata": {},
   "outputs": [
    {
     "output_type": "execute_result",
     "data": {
      "text/plain": "array([[0., 0., 1., 1., 0., 1., 0., 1., 0., 0.],\n       [0., 0., 1., 1., 0., 1., 0., 1., 0., 0.],\n       [0., 0., 1., 1., 0., 1., 0., 1., 0., 0.],\n       [0., 0., 1., 1., 0., 1., 0., 1., 0., 0.],\n       [0., 0., 1., 1., 0., 1., 0., 1., 0., 0.]])"
     },
     "metadata": {},
     "execution_count": 92
    }
   ],
   "source": [
    "#hidden_layer = [[]]\n",
    "hidden_layer = np.append(hidden_layer, h)\n",
    "hidden_layer.reshape(-1,size)"
   ]
  },
  {
   "cell_type": "code",
   "execution_count": 94,
   "metadata": {},
   "outputs": [
    {
     "output_type": "execute_result",
     "data": {
      "text/plain": "array([[2, 4],\n       [4, 8]])"
     },
     "metadata": {},
     "execution_count": 94
    }
   ],
   "source": [
    "np.outer([1,2],[2,4])"
   ]
  },
  {
   "cell_type": "code",
   "execution_count": 97,
   "metadata": {},
   "outputs": [
    {
     "output_type": "execute_result",
     "data": {
      "text/plain": "array([0.1717065 , 0.67278709, 0.22078284, 0.2893842 , 0.63099499,\n       0.66279008, 0.38804535, 0.24936905, 0.20700851, 0.53280702])"
     },
     "metadata": {},
     "execution_count": 97
    }
   ],
   "source": [
    "h = np.random.random_sample(10)\n",
    "h"
   ]
  },
  {
   "cell_type": "code",
   "execution_count": 98,
   "metadata": {},
   "outputs": [
    {
     "output_type": "execute_result",
     "data": {
      "text/plain": "array([0, 1, 0, 0, 0, 0, 0, 0, 0, 0])"
     },
     "metadata": {},
     "execution_count": 98
    }
   ],
   "source": [
    "np.where(h>=np.max(h),1,0)"
   ]
  },
  {
   "cell_type": "code",
   "execution_count": 100,
   "metadata": {},
   "outputs": [
    {
     "output_type": "execute_result",
     "data": {
      "text/plain": "array([[0.1717065 , 0.67278709, 0.22078284, 0.2893842 , 0.63099499],\n       [0.66279008, 0.38804535, 0.24936905, 0.20700851, 0.53280702]])"
     },
     "metadata": {},
     "execution_count": 100
    }
   ],
   "source": [
    "np.reshape(h,(2,-1))"
   ]
  },
  {
   "cell_type": "code",
   "execution_count": 101,
   "metadata": {},
   "outputs": [
    {
     "output_type": "execute_result",
     "data": {
      "text/plain": "array([0.1717065 , 0.67278709, 0.22078284, 0.2893842 , 0.63099499,\n       0.66279008, 0.38804535, 0.24936905, 0.20700851, 0.53280702])"
     },
     "metadata": {},
     "execution_count": 101
    }
   ],
   "source": [
    "h"
   ]
  },
  {
   "cell_type": "code",
   "execution_count": 103,
   "metadata": {},
   "outputs": [
    {
     "output_type": "execute_result",
     "data": {
      "text/plain": "<tf.Tensor: shape=(2, 10), dtype=float32, numpy=\narray([[0., 1., 0., 0., 0., 0., 0., 0., 0., 0.],\n       [0., 0., 1., 0., 0., 0., 0., 0., 0., 0.]], dtype=float32)>"
     },
     "metadata": {},
     "execution_count": 103
    }
   ],
   "source": [
    "tf.one_hot([1,2],10)"
   ]
  },
  {
   "cell_type": "code",
   "execution_count": 106,
   "metadata": {},
   "outputs": [
    {
     "output_type": "execute_result",
     "data": {
      "text/plain": "<tf.Tensor: shape=(10,), dtype=float32, numpy=array([0., 0., 0., 0., 0., 0., 0., 0., 0., 1.], dtype=float32)>"
     },
     "metadata": {},
     "execution_count": 106
    }
   ],
   "source": [
    "y2 = tf.one_hot(test_labels[0],10)\n",
    "y2"
   ]
  },
  {
   "cell_type": "code",
   "execution_count": 107,
   "metadata": {},
   "outputs": [
    {
     "output_type": "execute_result",
     "data": {
      "text/plain": "array([0, 1, 0, 0, 0, 0, 0, 0, 0, 0])"
     },
     "metadata": {},
     "execution_count": 107
    }
   ],
   "source": [
    "y1 =  ycls = np.where(h>=np.max(h),1,0)\n",
    "y1"
   ]
  },
  {
   "cell_type": "code",
   "execution_count": 108,
   "metadata": {},
   "outputs": [
    {
     "output_type": "execute_result",
     "data": {
      "text/plain": "array([0., 0., 0., 0., 0., 0., 0., 0., 0., 0.])"
     },
     "metadata": {},
     "execution_count": 108
    }
   ],
   "source": [
    "np.multiply(y1,y2)"
   ]
  },
  {
   "cell_type": "code",
   "execution_count": 129,
   "metadata": {},
   "outputs": [
    {
     "output_type": "stream",
     "name": "stdout",
     "text": "The final accuracy is 0.29999999999999998889776975374843459576368331909179688\n"
    }
   ],
   "source": [
    " print(\"The final accuracy is {:0.53f}\".format(0.3))"
   ]
  },
  {
   "cell_type": "code",
   "execution_count": 130,
   "metadata": {},
   "outputs": [
    {
     "output_type": "execute_result",
     "data": {
      "text/plain": "array([0.658498  , 0.39604384, 0.03323695, 0.60772817, 0.58001163])"
     },
     "metadata": {},
     "execution_count": 130
    }
   ],
   "source": [
    "np.random.random_sample(5)"
   ]
  },
  {
   "cell_type": "code",
   "execution_count": 131,
   "metadata": {},
   "outputs": [
    {
     "output_type": "execute_result",
     "data": {
      "text/plain": "(array([0.4719603 , 0.12057056, 0.63633793, 0.71045466, 0.41863208,\n        0.33875358, 0.19150683, 0.68547281, 0.51787147, 0.7974279 ]),\n array([0.83774361, 0.59541307, 0.61464253, 0.53240703, 0.4304117 ,\n        0.09978484, 0.80510581, 0.59313733, 0.40854649, 0.9066026 ]),\n array([0., 0., 1., 1., 0., 1., 0., 1., 1., 0.], dtype=float32))"
     },
     "metadata": {},
     "execution_count": 131
    }
   ],
   "source": [
    "phv = np.random.random_sample(10)\n",
    "tmp = np.random.random_sample(10)\n",
    "h = phv>=tmp\n",
    "h=np.array(h).astype(np.float32)\n",
    "phv,tmp,h"
   ]
  },
  {
   "cell_type": "code",
   "execution_count": 133,
   "metadata": {},
   "outputs": [
    {
     "output_type": "execute_result",
     "data": {
      "text/plain": "array([0., 0., 0., 0., 0., 0., 0., 0., 0., 1.])"
     },
     "metadata": {},
     "execution_count": 133
    }
   ],
   "source": [
    "ycls = np.where(phv>=np.max(phv),1.0,0.0)\n",
    "ycls"
   ]
  },
  {
   "cell_type": "code",
   "execution_count": null,
   "metadata": {},
   "outputs": [],
   "source": []
  }
 ],
 "metadata": {
  "language_info": {
   "codemirror_mode": {
    "name": "ipython",
    "version": 3
   },
   "file_extension": ".py",
   "mimetype": "text/x-python",
   "name": "python",
   "nbconvert_exporter": "python",
   "pygments_lexer": "ipython3",
   "version": "3.7.7-final"
  },
  "orig_nbformat": 2,
  "kernelspec": {
   "name": "python3",
   "display_name": "Python 3"
  }
 },
 "nbformat": 4,
 "nbformat_minor": 2
}